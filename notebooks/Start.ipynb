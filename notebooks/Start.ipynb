{
 "cells": [
  {
   "cell_type": "markdown",
   "id": "407d8947-5608-4af1-b569-af23c6f72a19",
   "metadata": {},
   "source": [
    "### Training your first model!"
   ]
  },
  {
   "cell_type": "code",
   "execution_count": null,
   "id": "47b96a12-407e-4cf8-bdcf-b7bbf439d556",
   "metadata": {},
   "outputs": [],
   "source": [
    "# Download some test data:\n",
    "!ns-download-data nerfstudio --capture-name=poster"
   ]
  },
  {
   "cell_type": "code",
   "execution_count": null,
   "id": "a867622a-c0c3-41ee-aeca-c0cafc2a3028",
   "metadata": {},
   "outputs": [],
   "source": [
    "# Train model\n",
    "!ns-train nerfacto --data data/nerfstudio/poster"
   ]
  },
  {
   "cell_type": "markdown",
   "id": "240ab700-09fa-40f3-bcb7-e0cad7dc7a33",
   "metadata": {},
   "source": [
    "Open next link to see viewr: http://galactica.lan:7007/"
   ]
  }
 ],
 "metadata": {
  "kernelspec": {
   "display_name": "Python 3 (ipykernel)",
   "language": "python",
   "name": "python3"
  },
  "language_info": {
   "codemirror_mode": {
    "name": "ipython",
    "version": 3
   },
   "file_extension": ".py",
   "mimetype": "text/x-python",
   "name": "python",
   "nbconvert_exporter": "python",
   "pygments_lexer": "ipython3",
   "version": "3.10.12"
  }
 },
 "nbformat": 4,
 "nbformat_minor": 5
}
